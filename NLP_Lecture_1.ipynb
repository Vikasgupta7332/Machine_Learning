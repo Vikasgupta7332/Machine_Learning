{
 "cells": [
  {
   "cell_type": "markdown",
   "id": "478c6066",
   "metadata": {},
   "source": [
    "# NLTK_Tutorial"
   ]
  },
  {
   "cell_type": "code",
   "execution_count": 1,
   "id": "cf16f6d6",
   "metadata": {},
   "outputs": [],
   "source": [
    "import numpy as np\n",
    "import pandas as pd\n",
    "import seaborn as sb\n",
    "from matplotlib import pyplot as plt\n",
    "import nltk"
   ]
  },
  {
   "cell_type": "code",
   "execution_count": 2,
   "id": "af017fc3",
   "metadata": {},
   "outputs": [
    {
     "name": "stdout",
     "output_type": "stream",
     "text": [
      "showing info https://raw.githubusercontent.com/nltk/nltk_data/gh-pages/index.xml\n"
     ]
    },
    {
     "data": {
      "text/plain": [
       "True"
      ]
     },
     "execution_count": 2,
     "metadata": {},
     "output_type": "execute_result"
    }
   ],
   "source": [
    "#nltk.download()"
   ]
  },
  {
   "cell_type": "code",
   "execution_count": 3,
   "id": "47580087",
   "metadata": {},
   "outputs": [],
   "source": [
    "Text_data=\"Since the evolution of humans, devices have been used for calculations for thousands of years. One of the earliest and most well-known devices was an abacus. Then in 1822, the father of computers, Charles Babbage began developing what would be the first mechanical computer. And then in 1833 he actually designed an Analytical Engine which was a general-purpose computer. It contained an ALU, some basic flow chart principles and the concept of integrated memory.\""
   ]
  },
  {
   "cell_type": "code",
   "execution_count": 4,
   "id": "e93ecb94",
   "metadata": {},
   "outputs": [
    {
     "data": {
      "text/plain": [
       "'Since the evolution of humans, devices have been used for calculations for thousands of years. One of the earliest and most well-known devices was an abacus. Then in 1822, the father of computers, Charles Babbage began developing what would be the first mechanical computer. And then in 1833 he actually designed an Analytical Engine which was a general-purpose computer. It contained an ALU, some basic flow chart principles and the concept of integrated memory.'"
      ]
     },
     "execution_count": 4,
     "metadata": {},
     "output_type": "execute_result"
    }
   ],
   "source": [
    "Text_data"
   ]
  },
  {
   "cell_type": "markdown",
   "id": "473fafa1",
   "metadata": {},
   "source": [
    "### Tokenization"
   ]
  },
  {
   "cell_type": "markdown",
   "id": "80792579",
   "metadata": {},
   "source": [
    "#### token in sentencs"
   ]
  },
  {
   "cell_type": "code",
   "execution_count": null,
   "id": "bda6e43f",
   "metadata": {},
   "outputs": [],
   "source": [
    "from nltk.tokenize import sent_tokenize,word_tokenize"
   ]
  },
  {
   "cell_type": "code",
   "execution_count": 8,
   "id": "f77c6839",
   "metadata": {},
   "outputs": [],
   "source": [
    "token_senences=sent_tokenize(Text_data)"
   ]
  },
  {
   "cell_type": "code",
   "execution_count": 9,
   "id": "a4d41467",
   "metadata": {},
   "outputs": [
    {
     "data": {
      "text/plain": [
       "['Since the evolution of humans, devices have been used for calculations for thousands of years.',\n",
       " 'One of the earliest and most well-known devices was an abacus.',\n",
       " 'Then in 1822, the father of computers, Charles Babbage began developing what would be the first mechanical computer.',\n",
       " 'And then in 1833 he actually designed an Analytical Engine which was a general-purpose computer.',\n",
       " 'It contained an ALU, some basic flow chart principles and the concept of integrated memory.']"
      ]
     },
     "execution_count": 9,
     "metadata": {},
     "output_type": "execute_result"
    }
   ],
   "source": [
    "token_senences"
   ]
  },
  {
   "cell_type": "code",
   "execution_count": 10,
   "id": "4a65deff",
   "metadata": {},
   "outputs": [
    {
     "data": {
      "text/plain": [
       "5"
      ]
     },
     "execution_count": 10,
     "metadata": {},
     "output_type": "execute_result"
    }
   ],
   "source": [
    "len(token_senences)"
   ]
  },
  {
   "cell_type": "markdown",
   "id": "8cde8e68",
   "metadata": {},
   "source": [
    "#### token in words"
   ]
  },
  {
   "cell_type": "code",
   "execution_count": 12,
   "id": "413febbb",
   "metadata": {},
   "outputs": [],
   "source": [
    "token_words=word_tokenize(Text_data)"
   ]
  },
  {
   "cell_type": "code",
   "execution_count": 13,
   "id": "f05c0f7f",
   "metadata": {},
   "outputs": [
    {
     "data": {
      "text/plain": [
       "['Since',\n",
       " 'the',\n",
       " 'evolution',\n",
       " 'of',\n",
       " 'humans',\n",
       " ',',\n",
       " 'devices',\n",
       " 'have',\n",
       " 'been',\n",
       " 'used',\n",
       " 'for',\n",
       " 'calculations',\n",
       " 'for',\n",
       " 'thousands',\n",
       " 'of',\n",
       " 'years',\n",
       " '.',\n",
       " 'One',\n",
       " 'of',\n",
       " 'the',\n",
       " 'earliest',\n",
       " 'and',\n",
       " 'most',\n",
       " 'well-known',\n",
       " 'devices',\n",
       " 'was',\n",
       " 'an',\n",
       " 'abacus',\n",
       " '.',\n",
       " 'Then',\n",
       " 'in',\n",
       " '1822',\n",
       " ',',\n",
       " 'the',\n",
       " 'father',\n",
       " 'of',\n",
       " 'computers',\n",
       " ',',\n",
       " 'Charles',\n",
       " 'Babbage',\n",
       " 'began',\n",
       " 'developing',\n",
       " 'what',\n",
       " 'would',\n",
       " 'be',\n",
       " 'the',\n",
       " 'first',\n",
       " 'mechanical',\n",
       " 'computer',\n",
       " '.',\n",
       " 'And',\n",
       " 'then',\n",
       " 'in',\n",
       " '1833',\n",
       " 'he',\n",
       " 'actually',\n",
       " 'designed',\n",
       " 'an',\n",
       " 'Analytical',\n",
       " 'Engine',\n",
       " 'which',\n",
       " 'was',\n",
       " 'a',\n",
       " 'general-purpose',\n",
       " 'computer',\n",
       " '.',\n",
       " 'It',\n",
       " 'contained',\n",
       " 'an',\n",
       " 'ALU',\n",
       " ',',\n",
       " 'some',\n",
       " 'basic',\n",
       " 'flow',\n",
       " 'chart',\n",
       " 'principles',\n",
       " 'and',\n",
       " 'the',\n",
       " 'concept',\n",
       " 'of',\n",
       " 'integrated',\n",
       " 'memory',\n",
       " '.']"
      ]
     },
     "execution_count": 13,
     "metadata": {},
     "output_type": "execute_result"
    }
   ],
   "source": [
    "token_words"
   ]
  },
  {
   "cell_type": "code",
   "execution_count": 14,
   "id": "c190e517",
   "metadata": {},
   "outputs": [
    {
     "data": {
      "text/plain": [
       "83"
      ]
     },
     "execution_count": 14,
     "metadata": {},
     "output_type": "execute_result"
    }
   ],
   "source": [
    "len(token_words)"
   ]
  },
  {
   "cell_type": "markdown",
   "id": "0cad3d7f",
   "metadata": {},
   "source": [
    "#### word frequency"
   ]
  },
  {
   "cell_type": "code",
   "execution_count": 15,
   "id": "4ab097b4",
   "metadata": {},
   "outputs": [],
   "source": [
    "from nltk.probability import FreqDist"
   ]
  },
  {
   "cell_type": "code",
   "execution_count": 16,
   "id": "609672af",
   "metadata": {},
   "outputs": [],
   "source": [
    "word_freq=FreqDist(token_words)"
   ]
  },
  {
   "cell_type": "code",
   "execution_count": 17,
   "id": "ced25cd6",
   "metadata": {},
   "outputs": [
    {
     "data": {
      "text/plain": [
       "FreqDist({'the': 5, 'of': 5, '.': 5, ',': 4, 'an': 3, 'devices': 2, 'for': 2, 'and': 2, 'was': 2, 'in': 2, ...})"
      ]
     },
     "execution_count": 17,
     "metadata": {},
     "output_type": "execute_result"
    }
   ],
   "source": [
    "word_freq"
   ]
  },
  {
   "cell_type": "code",
   "execution_count": 18,
   "id": "0f212621",
   "metadata": {},
   "outputs": [
    {
     "data": {
      "text/plain": [
       "[('the', 5), ('of', 5), ('.', 5), (',', 4), ('an', 3)]"
      ]
     },
     "execution_count": 18,
     "metadata": {},
     "output_type": "execute_result"
    }
   ],
   "source": [
    "word_freq.most_common(5)"
   ]
  },
  {
   "cell_type": "code",
   "execution_count": 25,
   "id": "ad88f762",
   "metadata": {},
   "outputs": [],
   "source": [
    "df_wf=pd.DataFrame.from_dict(word_freq,orient='index')\n",
    "df_wf=df_wf.rename(columns={0:\"Freq\"})\n",
    "df_wf=df_wf.sort_values([\"Freq\"],ascending=False)"
   ]
  },
  {
   "cell_type": "code",
   "execution_count": 26,
   "id": "35f95ae2",
   "metadata": {},
   "outputs": [
    {
     "data": {
      "text/html": [
       "<div>\n",
       "<style scoped>\n",
       "    .dataframe tbody tr th:only-of-type {\n",
       "        vertical-align: middle;\n",
       "    }\n",
       "\n",
       "    .dataframe tbody tr th {\n",
       "        vertical-align: top;\n",
       "    }\n",
       "\n",
       "    .dataframe thead th {\n",
       "        text-align: right;\n",
       "    }\n",
       "</style>\n",
       "<table border=\"1\" class=\"dataframe\">\n",
       "  <thead>\n",
       "    <tr style=\"text-align: right;\">\n",
       "      <th></th>\n",
       "      <th>Freq</th>\n",
       "    </tr>\n",
       "  </thead>\n",
       "  <tbody>\n",
       "    <tr>\n",
       "      <th>the</th>\n",
       "      <td>5</td>\n",
       "    </tr>\n",
       "    <tr>\n",
       "      <th>of</th>\n",
       "      <td>5</td>\n",
       "    </tr>\n",
       "    <tr>\n",
       "      <th>.</th>\n",
       "      <td>5</td>\n",
       "    </tr>\n",
       "    <tr>\n",
       "      <th>,</th>\n",
       "      <td>4</td>\n",
       "    </tr>\n",
       "    <tr>\n",
       "      <th>an</th>\n",
       "      <td>3</td>\n",
       "    </tr>\n",
       "    <tr>\n",
       "      <th>in</th>\n",
       "      <td>2</td>\n",
       "    </tr>\n",
       "    <tr>\n",
       "      <th>was</th>\n",
       "      <td>2</td>\n",
       "    </tr>\n",
       "    <tr>\n",
       "      <th>and</th>\n",
       "      <td>2</td>\n",
       "    </tr>\n",
       "    <tr>\n",
       "      <th>devices</th>\n",
       "      <td>2</td>\n",
       "    </tr>\n",
       "    <tr>\n",
       "      <th>computer</th>\n",
       "      <td>2</td>\n",
       "    </tr>\n",
       "    <tr>\n",
       "      <th>for</th>\n",
       "      <td>2</td>\n",
       "    </tr>\n",
       "    <tr>\n",
       "      <th>then</th>\n",
       "      <td>1</td>\n",
       "    </tr>\n",
       "    <tr>\n",
       "      <th>1833</th>\n",
       "      <td>1</td>\n",
       "    </tr>\n",
       "    <tr>\n",
       "      <th>he</th>\n",
       "      <td>1</td>\n",
       "    </tr>\n",
       "    <tr>\n",
       "      <th>actually</th>\n",
       "      <td>1</td>\n",
       "    </tr>\n",
       "    <tr>\n",
       "      <th>designed</th>\n",
       "      <td>1</td>\n",
       "    </tr>\n",
       "    <tr>\n",
       "      <th>And</th>\n",
       "      <td>1</td>\n",
       "    </tr>\n",
       "    <tr>\n",
       "      <th>Analytical</th>\n",
       "      <td>1</td>\n",
       "    </tr>\n",
       "    <tr>\n",
       "      <th>Engine</th>\n",
       "      <td>1</td>\n",
       "    </tr>\n",
       "    <tr>\n",
       "      <th>which</th>\n",
       "      <td>1</td>\n",
       "    </tr>\n",
       "    <tr>\n",
       "      <th>Since</th>\n",
       "      <td>1</td>\n",
       "    </tr>\n",
       "    <tr>\n",
       "      <th>a</th>\n",
       "      <td>1</td>\n",
       "    </tr>\n",
       "    <tr>\n",
       "      <th>general-purpose</th>\n",
       "      <td>1</td>\n",
       "    </tr>\n",
       "    <tr>\n",
       "      <th>first</th>\n",
       "      <td>1</td>\n",
       "    </tr>\n",
       "    <tr>\n",
       "      <th>It</th>\n",
       "      <td>1</td>\n",
       "    </tr>\n",
       "    <tr>\n",
       "      <th>contained</th>\n",
       "      <td>1</td>\n",
       "    </tr>\n",
       "    <tr>\n",
       "      <th>ALU</th>\n",
       "      <td>1</td>\n",
       "    </tr>\n",
       "    <tr>\n",
       "      <th>some</th>\n",
       "      <td>1</td>\n",
       "    </tr>\n",
       "    <tr>\n",
       "      <th>basic</th>\n",
       "      <td>1</td>\n",
       "    </tr>\n",
       "    <tr>\n",
       "      <th>flow</th>\n",
       "      <td>1</td>\n",
       "    </tr>\n",
       "    <tr>\n",
       "      <th>chart</th>\n",
       "      <td>1</td>\n",
       "    </tr>\n",
       "    <tr>\n",
       "      <th>principles</th>\n",
       "      <td>1</td>\n",
       "    </tr>\n",
       "    <tr>\n",
       "      <th>concept</th>\n",
       "      <td>1</td>\n",
       "    </tr>\n",
       "    <tr>\n",
       "      <th>integrated</th>\n",
       "      <td>1</td>\n",
       "    </tr>\n",
       "    <tr>\n",
       "      <th>mechanical</th>\n",
       "      <td>1</td>\n",
       "    </tr>\n",
       "    <tr>\n",
       "      <th>began</th>\n",
       "      <td>1</td>\n",
       "    </tr>\n",
       "    <tr>\n",
       "      <th>be</th>\n",
       "      <td>1</td>\n",
       "    </tr>\n",
       "    <tr>\n",
       "      <th>would</th>\n",
       "      <td>1</td>\n",
       "    </tr>\n",
       "    <tr>\n",
       "      <th>evolution</th>\n",
       "      <td>1</td>\n",
       "    </tr>\n",
       "    <tr>\n",
       "      <th>humans</th>\n",
       "      <td>1</td>\n",
       "    </tr>\n",
       "    <tr>\n",
       "      <th>have</th>\n",
       "      <td>1</td>\n",
       "    </tr>\n",
       "    <tr>\n",
       "      <th>been</th>\n",
       "      <td>1</td>\n",
       "    </tr>\n",
       "    <tr>\n",
       "      <th>used</th>\n",
       "      <td>1</td>\n",
       "    </tr>\n",
       "    <tr>\n",
       "      <th>calculations</th>\n",
       "      <td>1</td>\n",
       "    </tr>\n",
       "    <tr>\n",
       "      <th>thousands</th>\n",
       "      <td>1</td>\n",
       "    </tr>\n",
       "    <tr>\n",
       "      <th>years</th>\n",
       "      <td>1</td>\n",
       "    </tr>\n",
       "    <tr>\n",
       "      <th>One</th>\n",
       "      <td>1</td>\n",
       "    </tr>\n",
       "    <tr>\n",
       "      <th>earliest</th>\n",
       "      <td>1</td>\n",
       "    </tr>\n",
       "    <tr>\n",
       "      <th>most</th>\n",
       "      <td>1</td>\n",
       "    </tr>\n",
       "    <tr>\n",
       "      <th>well-known</th>\n",
       "      <td>1</td>\n",
       "    </tr>\n",
       "    <tr>\n",
       "      <th>abacus</th>\n",
       "      <td>1</td>\n",
       "    </tr>\n",
       "    <tr>\n",
       "      <th>Then</th>\n",
       "      <td>1</td>\n",
       "    </tr>\n",
       "    <tr>\n",
       "      <th>1822</th>\n",
       "      <td>1</td>\n",
       "    </tr>\n",
       "    <tr>\n",
       "      <th>father</th>\n",
       "      <td>1</td>\n",
       "    </tr>\n",
       "    <tr>\n",
       "      <th>computers</th>\n",
       "      <td>1</td>\n",
       "    </tr>\n",
       "    <tr>\n",
       "      <th>Charles</th>\n",
       "      <td>1</td>\n",
       "    </tr>\n",
       "    <tr>\n",
       "      <th>Babbage</th>\n",
       "      <td>1</td>\n",
       "    </tr>\n",
       "    <tr>\n",
       "      <th>developing</th>\n",
       "      <td>1</td>\n",
       "    </tr>\n",
       "    <tr>\n",
       "      <th>what</th>\n",
       "      <td>1</td>\n",
       "    </tr>\n",
       "    <tr>\n",
       "      <th>memory</th>\n",
       "      <td>1</td>\n",
       "    </tr>\n",
       "  </tbody>\n",
       "</table>\n",
       "</div>"
      ],
      "text/plain": [
       "                 Freq\n",
       "the                 5\n",
       "of                  5\n",
       ".                   5\n",
       ",                   4\n",
       "an                  3\n",
       "in                  2\n",
       "was                 2\n",
       "and                 2\n",
       "devices             2\n",
       "computer            2\n",
       "for                 2\n",
       "then                1\n",
       "1833                1\n",
       "he                  1\n",
       "actually            1\n",
       "designed            1\n",
       "And                 1\n",
       "Analytical          1\n",
       "Engine              1\n",
       "which               1\n",
       "Since               1\n",
       "a                   1\n",
       "general-purpose     1\n",
       "first               1\n",
       "It                  1\n",
       "contained           1\n",
       "ALU                 1\n",
       "some                1\n",
       "basic               1\n",
       "flow                1\n",
       "chart               1\n",
       "principles          1\n",
       "concept             1\n",
       "integrated          1\n",
       "mechanical          1\n",
       "began               1\n",
       "be                  1\n",
       "would               1\n",
       "evolution           1\n",
       "humans              1\n",
       "have                1\n",
       "been                1\n",
       "used                1\n",
       "calculations        1\n",
       "thousands           1\n",
       "years               1\n",
       "One                 1\n",
       "earliest            1\n",
       "most                1\n",
       "well-known          1\n",
       "abacus              1\n",
       "Then                1\n",
       "1822                1\n",
       "father              1\n",
       "computers           1\n",
       "Charles             1\n",
       "Babbage             1\n",
       "developing          1\n",
       "what                1\n",
       "memory              1"
      ]
     },
     "execution_count": 26,
     "metadata": {},
     "output_type": "execute_result"
    }
   ],
   "source": [
    "df_wf"
   ]
  },
  {
   "cell_type": "code",
   "execution_count": 28,
   "id": "6fdd5ce5",
   "metadata": {},
   "outputs": [
    {
     "data": {
      "image/png": "[encoded data removed]",
      "text/plain": [
       "<Figure size 432x288 with 1 Axes>"
      ]
     },
     "metadata": {
      "needs_background": "light"
     },
     "output_type": "display_data"
    }
   ],
   "source": [
    "word_freq.plot(20)\n",
    "plt.show()"
   ]
  },
  {
   "cell_type": "markdown",
   "id": "f543d019",
   "metadata": {},
   "source": [
    "## Stop words"
   ]
  },
  {
   "cell_type": "code",
   "execution_count": 29,
   "id": "a21d8aa4",
   "metadata": {},
   "outputs": [],
   "source": [
    "from nltk.corpus import stopwords"
   ]
  },
  {
   "cell_type": "code",
   "execution_count": 31,
   "id": "50ed432a",
   "metadata": {},
   "outputs": [],
   "source": [
    "list_stop_words=stopwords.words(\"english\")"
   ]
  },
  {
   "cell_type": "code",
   "execution_count": 32,
   "id": "9448fc15",
   "metadata": {},
   "outputs": [
    {
     "data": {
      "text/plain": [
       "['i',\n",
       " 'me',\n",
       " 'my',\n",
       " 'myself',\n",
       " 'we',\n",
       " 'our',\n",
       " 'ours',\n",
       " 'ourselves',\n",
       " 'you',\n",
       " \"you're\",\n",
       " \"you've\",\n",
       " \"you'll\",\n",
       " \"you'd\",\n",
       " 'your',\n",
       " 'yours',\n",
       " 'yourself',\n",
       " 'yourselves',\n",
       " 'he',\n",
       " 'him',\n",
       " 'his',\n",
       " 'himself',\n",
       " 'she',\n",
       " \"she's\",\n",
       " 'her',\n",
       " 'hers',\n",
       " 'herself',\n",
       " 'it',\n",
       " \"it's\",\n",
       " 'its',\n",
       " 'itself',\n",
       " 'they',\n",
       " 'them',\n",
       " 'their',\n",
       " 'theirs',\n",
       " 'themselves',\n",
       " 'what',\n",
       " 'which',\n",
       " 'who',\n",
       " 'whom',\n",
       " 'this',\n",
       " 'that',\n",
       " \"that'll\",\n",
       " 'these',\n",
       " 'those',\n",
       " 'am',\n",
       " 'is',\n",
       " 'are',\n",
       " 'was',\n",
       " 'were',\n",
       " 'be',\n",
       " 'been',\n",
       " 'being',\n",
       " 'have',\n",
       " 'has',\n",
       " 'had',\n",
       " 'having',\n",
       " 'do',\n",
       " 'does',\n",
       " 'did',\n",
       " 'doing',\n",
       " 'a',\n",
       " 'an',\n",
       " 'the',\n",
       " 'and',\n",
       " 'but',\n",
       " 'if',\n",
       " 'or',\n",
       " 'because',\n",
       " 'as',\n",
       " 'until',\n",
       " 'while',\n",
       " 'of',\n",
       " 'at',\n",
       " 'by',\n",
       " 'for',\n",
       " 'with',\n",
       " 'about',\n",
       " 'against',\n",
       " 'between',\n",
       " 'into',\n",
       " 'through',\n",
       " 'during',\n",
       " 'before',\n",
       " 'after',\n",
       " 'above',\n",
       " 'below',\n",
       " 'to',\n",
       " 'from',\n",
       " 'up',\n",
       " 'down',\n",
       " 'in',\n",
       " 'out',\n",
       " 'on',\n",
       " 'off',\n",
       " 'over',\n",
       " 'under',\n",
       " 'again',\n",
       " 'further',\n",
       " 'then',\n",
       " 'once',\n",
       " 'here',\n",
       " 'there',\n",
       " 'when',\n",
       " 'where',\n",
       " 'why',\n",
       " 'how',\n",
       " 'all',\n",
       " 'any',\n",
       " 'both',\n",
       " 'each',\n",
       " 'few',\n",
       " 'more',\n",
       " 'most',\n",
       " 'other',\n",
       " 'some',\n",
       " 'such',\n",
       " 'no',\n",
       " 'nor',\n",
       " 'not',\n",
       " 'only',\n",
       " 'own',\n",
       " 'same',\n",
       " 'so',\n",
       " 'than',\n",
       " 'too',\n",
       " 'very',\n",
       " 's',\n",
       " 't',\n",
       " 'can',\n",
       " 'will',\n",
       " 'just',\n",
       " 'don',\n",
       " \"don't\",\n",
       " 'should',\n",
       " \"should've\",\n",
       " 'now',\n",
       " 'd',\n",
       " 'll',\n",
       " 'm',\n",
       " 'o',\n",
       " 're',\n",
       " 've',\n",
       " 'y',\n",
       " 'ain',\n",
       " 'aren',\n",
       " \"aren't\",\n",
       " 'couldn',\n",
       " \"couldn't\",\n",
       " 'didn',\n",
       " \"didn't\",\n",
       " 'doesn',\n",
       " \"doesn't\",\n",
       " 'hadn',\n",
       " \"hadn't\",\n",
       " 'hasn',\n",
       " \"hasn't\",\n",
       " 'haven',\n",
       " \"haven't\",\n",
       " 'isn',\n",
       " \"isn't\",\n",
       " 'ma',\n",
       " 'mightn',\n",
       " \"mightn't\",\n",
       " 'mustn',\n",
       " \"mustn't\",\n",
       " 'needn',\n",
       " \"needn't\",\n",
       " 'shan',\n",
       " \"shan't\",\n",
       " 'shouldn',\n",
       " \"shouldn't\",\n",
       " 'wasn',\n",
       " \"wasn't\",\n",
       " 'weren',\n",
       " \"weren't\",\n",
       " 'won',\n",
       " \"won't\",\n",
       " 'wouldn',\n",
       " \"wouldn't\"]"
      ]
     },
     "execution_count": 32,
     "metadata": {},
     "output_type": "execute_result"
    }
   ],
   "source": [
    "list_stop_words"
   ]
  },
  {
   "cell_type": "code",
   "execution_count": 33,
   "id": "f736d33a",
   "metadata": {},
   "outputs": [
    {
     "data": {
      "text/plain": [
       "179"
      ]
     },
     "execution_count": 33,
     "metadata": {},
     "output_type": "execute_result"
    }
   ],
   "source": [
    "len(list_stop_words)"
   ]
  },
  {
   "cell_type": "code",
   "execution_count": 36,
   "id": "9f7f7a5f",
   "metadata": {},
   "outputs": [
    {
     "name": "stdout",
     "output_type": "stream",
     "text": [
      "Since\n",
      "evolution\n",
      "humans\n",
      ",\n",
      "devices\n",
      "used\n",
      "calculations\n",
      "thousands\n",
      "years\n",
      ".\n",
      "One\n",
      "earliest\n",
      "well-known\n",
      "devices\n",
      "abacus\n",
      ".\n",
      "Then\n",
      "1822\n",
      ",\n",
      "father\n",
      "computers\n",
      ",\n",
      "Charles\n",
      "Babbage\n",
      "began\n",
      "developing\n",
      "would\n",
      "first\n",
      "mechanical\n",
      "computer\n",
      ".\n",
      "And\n",
      "1833\n",
      "actually\n",
      "designed\n",
      "Analytical\n",
      "Engine\n",
      "general-purpose\n",
      "computer\n",
      ".\n",
      "It\n",
      "contained\n",
      "ALU\n",
      ",\n",
      "basic\n",
      "flow\n",
      "chart\n",
      "principles\n",
      "concept\n",
      "integrated\n",
      "memory\n",
      ".\n"
     ]
    }
   ],
   "source": [
    "filter_words=[]\n",
    "for i in token_words:\n",
    "    if i not in list_stop_words:\n",
    "        print(i)\n",
    "        filter_words.append(i)"
   ]
  },
  {
   "cell_type": "code",
   "execution_count": 37,
   "id": "b5926216",
   "metadata": {},
   "outputs": [],
   "source": [
    "filter_word_freq=FreqDist(filter_words)"
   ]
  },
  {
   "cell_type": "code",
   "execution_count": 38,
   "id": "fd2c532d",
   "metadata": {},
   "outputs": [
    {
     "data": {
      "text/plain": [
       "43"
      ]
     },
     "execution_count": 38,
     "metadata": {},
     "output_type": "execute_result"
    }
   ],
   "source": [
    "len(filter_word_freq)"
   ]
  },
  {
   "cell_type": "code",
   "execution_count": 39,
   "id": "ae00ed57",
   "metadata": {},
   "outputs": [
    {
     "data": {
      "text/plain": [
       "FreqDist({'.': 5, ',': 4, 'devices': 2, 'computer': 2, 'Since': 1, 'evolution': 1, 'humans': 1, 'used': 1, 'calculations': 1, 'thousands': 1, ...})"
      ]
     },
     "execution_count": 39,
     "metadata": {},
     "output_type": "execute_result"
    }
   ],
   "source": [
    "filter_word_freq"
   ]
  },
  {
   "cell_type": "code",
   "execution_count": 41,
   "id": "7634a730",
   "metadata": {},
   "outputs": [
    {
     "data": {
      "image/png": "[encoded data removed]",
      "text/plain": [
       "<Figure size 432x288 with 1 Axes>"
      ]
     },
     "metadata": {
      "needs_background": "light"
     },
     "output_type": "display_data"
    }
   ],
   "source": [
    "filter_word_freq.plot(20)\n",
    "plt.show()"
   ]
  },
  {
   "cell_type": "markdown",
   "id": "ebde55cb",
   "metadata": {},
   "source": [
    "### lemitization and steming"
   ]
  },
  {
   "cell_type": "code",
   "execution_count": 42,
   "id": "a3515b4a",
   "metadata": {},
   "outputs": [],
   "source": [
    "from nltk.stem import PorterStemmer\n",
    "ps=PorterStemmer()"
   ]
  },
  {
   "cell_type": "code",
   "execution_count": 43,
   "id": "08a71464",
   "metadata": {},
   "outputs": [
    {
     "name": "stdout",
     "output_type": "stream",
     "text": [
      "work\n"
     ]
    }
   ],
   "source": [
    "print(ps.stem(\"working\"))"
   ]
  },
  {
   "cell_type": "code",
   "execution_count": 44,
   "id": "fc09fd79",
   "metadata": {},
   "outputs": [],
   "source": [
    "sent=\"connection conecting conneted conntes , he is running\""
   ]
  },
  {
   "cell_type": "code",
   "execution_count": 48,
   "id": "3ac042f3",
   "metadata": {},
   "outputs": [
    {
     "name": "stdout",
     "output_type": "stream",
     "text": [
      "connect\n",
      "conect\n",
      "connet\n",
      "connt\n",
      ",\n",
      "he\n",
      "is\n",
      "run\n"
     ]
    }
   ],
   "source": [
    "word_stem=word_tokenize(sent)\n",
    "for j in word_stem:\n",
    "    ps=PorterStemmer()\n",
    "    print(ps.stem(j))"
   ]
  },
  {
   "cell_type": "markdown",
   "id": "5f770064",
   "metadata": {},
   "source": [
    "### lemitization"
   ]
  },
  {
   "cell_type": "code",
   "execution_count": 49,
   "id": "1f4ebb5f",
   "metadata": {},
   "outputs": [],
   "source": [
    "from nltk.stem import WordNetLemmatizer"
   ]
  },
  {
   "cell_type": "code",
   "execution_count": 50,
   "id": "73313964",
   "metadata": {},
   "outputs": [],
   "source": [
    "lemma=WordNetLemmatizer()"
   ]
  },
  {
   "cell_type": "code",
   "execution_count": 51,
   "id": "ee8bb1bd",
   "metadata": {},
   "outputs": [
    {
     "name": "stdout",
     "output_type": "stream",
     "text": [
      "running\n"
     ]
    }
   ],
   "source": [
    "print(lemma.lemmatize(\"running\"))"
   ]
  },
  {
   "cell_type": "code",
   "execution_count": 53,
   "id": "2134e981",
   "metadata": {},
   "outputs": [
    {
     "name": "stdout",
     "output_type": "stream",
     "text": [
      "run\n"
     ]
    }
   ],
   "source": [
    "print(lemma.lemmatize(\"running\",\"v\"))"
   ]
  },
  {
   "cell_type": "code",
   "execution_count": 54,
   "id": "9b8fde08",
   "metadata": {},
   "outputs": [
    {
     "name": "stdout",
     "output_type": "stream",
     "text": [
      "go\n"
     ]
    }
   ],
   "source": [
    "print(lemma.lemmatize(\"went\",\"v\"))"
   ]
  },
  {
   "cell_type": "markdown",
   "id": "cf577d3e",
   "metadata": {},
   "source": [
    "### Part of Speech"
   ]
  },
  {
   "cell_type": "code",
   "execution_count": 56,
   "id": "484d24e3",
   "metadata": {},
   "outputs": [
    {
     "data": {
      "text/plain": [
       "[('Since', 'IN'),\n",
       " ('the', 'DT'),\n",
       " ('evolution', 'NN'),\n",
       " ('of', 'IN'),\n",
       " ('humans', 'NNS'),\n",
       " (',', ','),\n",
       " ('devices', 'NNS'),\n",
       " ('have', 'VBP'),\n",
       " ('been', 'VBN'),\n",
       " ('used', 'VBN'),\n",
       " ('for', 'IN'),\n",
       " ('calculations', 'NNS'),\n",
       " ('for', 'IN'),\n",
       " ('thousands', 'NNS'),\n",
       " ('of', 'IN'),\n",
       " ('years', 'NNS'),\n",
       " ('.', '.'),\n",
       " ('One', 'CD'),\n",
       " ('of', 'IN'),\n",
       " ('the', 'DT'),\n",
       " ('earliest', 'JJS'),\n",
       " ('and', 'CC'),\n",
       " ('most', 'RBS'),\n",
       " ('well-known', 'JJ'),\n",
       " ('devices', 'NNS'),\n",
       " ('was', 'VBD'),\n",
       " ('an', 'DT'),\n",
       " ('abacus', 'NN'),\n",
       " ('.', '.'),\n",
       " ('Then', 'RB'),\n",
       " ('in', 'IN'),\n",
       " ('1822', 'CD'),\n",
       " (',', ','),\n",
       " ('the', 'DT'),\n",
       " ('father', 'NN'),\n",
       " ('of', 'IN'),\n",
       " ('computers', 'NNS'),\n",
       " (',', ','),\n",
       " ('Charles', 'NNP'),\n",
       " ('Babbage', 'NNP'),\n",
       " ('began', 'VBD'),\n",
       " ('developing', 'VBG'),\n",
       " ('what', 'WP'),\n",
       " ('would', 'MD'),\n",
       " ('be', 'VB'),\n",
       " ('the', 'DT'),\n",
       " ('first', 'JJ'),\n",
       " ('mechanical', 'JJ'),\n",
       " ('computer', 'NN'),\n",
       " ('.', '.'),\n",
       " ('And', 'CC'),\n",
       " ('then', 'RB'),\n",
       " ('in', 'IN'),\n",
       " ('1833', 'CD'),\n",
       " ('he', 'PRP'),\n",
       " ('actually', 'RB'),\n",
       " ('designed', 'VBD'),\n",
       " ('an', 'DT'),\n",
       " ('Analytical', 'NNP'),\n",
       " ('Engine', 'NNP'),\n",
       " ('which', 'WDT'),\n",
       " ('was', 'VBD'),\n",
       " ('a', 'DT'),\n",
       " ('general-purpose', 'JJ'),\n",
       " ('computer', 'NN'),\n",
       " ('.', '.'),\n",
       " ('It', 'PRP'),\n",
       " ('contained', 'VBD'),\n",
       " ('an', 'DT'),\n",
       " ('ALU', 'NNP'),\n",
       " (',', ','),\n",
       " ('some', 'DT'),\n",
       " ('basic', 'JJ'),\n",
       " ('flow', 'JJ'),\n",
       " ('chart', 'NN'),\n",
       " ('principles', 'NNS'),\n",
       " ('and', 'CC'),\n",
       " ('the', 'DT'),\n",
       " ('concept', 'NN'),\n",
       " ('of', 'IN'),\n",
       " ('integrated', 'JJ'),\n",
       " ('memory', 'NN'),\n",
       " ('.', '.')]"
      ]
     },
     "execution_count": 56,
     "metadata": {},
     "output_type": "execute_result"
    }
   ],
   "source": [
    "nltk.pos_tag(token_words)"
   ]
  },
  {
   "cell_type": "code",
   "execution_count": 57,
   "id": "8e60474d",
   "metadata": {},
   "outputs": [
    {
     "name": "stdout",
     "output_type": "stream",
     "text": [
      "Collecting wordcloud\n",
      "  Downloading wordcloud-1.8.2.2-cp38-cp38-win_amd64.whl (152 kB)\n",
      "Requirement already satisfied: numpy>=1.6.1 in c:\\programdata\\anaconda3\\lib\\site-packages (from wordcloud) (1.20.1)\n",
      "Requirement already satisfied: matplotlib in c:\\programdata\\anaconda3\\lib\\site-packages (from wordcloud) (3.3.4)\n",
      "Requirement already satisfied: pillow in c:\\programdata\\anaconda3\\lib\\site-packages (from wordcloud) (8.2.0)\n",
      "Requirement already satisfied: kiwisolver>=1.0.1 in c:\\programdata\\anaconda3\\lib\\site-packages (from matplotlib->wordcloud) (1.3.1)\n",
      "Requirement already satisfied: python-dateutil>=2.1 in c:\\programdata\\anaconda3\\lib\\site-packages (from matplotlib->wordcloud) (2.8.1)\n",
      "Requirement already satisfied: cycler>=0.10 in c:\\programdata\\anaconda3\\lib\\site-packages (from matplotlib->wordcloud) (0.10.0)\n",
      "Requirement already satisfied: pyparsing!=2.0.4,!=2.1.2,!=2.1.6,>=2.0.3 in c:\\programdata\\anaconda3\\lib\\site-packages (from matplotlib->wordcloud) (2.4.7)\n",
      "Requirement already satisfied: six in c:\\programdata\\anaconda3\\lib\\site-packages (from cycler>=0.10->matplotlib->wordcloud) (1.15.0)\n",
      "Installing collected packages: wordcloud\n",
      "Successfully installed wordcloud-1.8.2.2\n"
     ]
    }
   ],
   "source": [
    "#! pip install wordcloud"
   ]
  },
  {
   "cell_type": "code",
   "execution_count": 58,
   "id": "63160a06",
   "metadata": {},
   "outputs": [],
   "source": [
    "from wordcloud import WordCloud,STOPWORDS"
   ]
  },
  {
   "cell_type": "code",
   "execution_count": 59,
   "id": "82d72c0f",
   "metadata": {},
   "outputs": [],
   "source": [
    "word_cloud_data=WordCloud().generate(Text_data)"
   ]
  },
  {
   "cell_type": "code",
   "execution_count": 61,
   "id": "6543ef5f",
   "metadata": {},
   "outputs": [
    {
     "data": {
      "image/png": "[encoded data removed]",
      "text/plain": [
       "<Figure size 432x288 with 1 Axes>"
      ]
     },
     "metadata": {
      "needs_background": "light"
     },
     "output_type": "display_data"
    }
   ],
   "source": [
    "plt.imshow(word_cloud_data,interpolation=\"bilinear\")\n",
    "plt.axis(\"off\")\n",
    "plt.show()"
   ]
  },
  {
   "cell_type": "code",
   "execution_count": null,
   "id": "7747bf36",
   "metadata": {},
   "outputs": [],
   "source": []
  }
 ],
 "metadata": {
  "kernelspec": {
   "display_name": "Python 3",
   "language": "python",
   "name": "python3"
  },
  "language_info": {
   "codemirror_mode": {
    "name": "ipython",
    "version": 3
   },
   "file_extension": ".py",
   "mimetype": "text/x-python",
   "name": "python",
   "nbconvert_exporter": "python",
   "pygments_lexer": "ipython3",
   "version": "3.8.8"
  }
 },
 "nbformat": 4,
 "nbformat_minor": 5
}
