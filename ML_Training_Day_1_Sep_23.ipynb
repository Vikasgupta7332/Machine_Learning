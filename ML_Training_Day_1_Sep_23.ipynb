{
 "cells": [
  {
   "cell_type": "markdown",
   "id": "6178de7a",
   "metadata": {},
   "source": [
    "### This is my first project"
   ]
  },
  {
   "cell_type": "code",
   "execution_count": 1,
   "id": "47b14b20",
   "metadata": {},
   "outputs": [],
   "source": [
    "var_a=10"
   ]
  },
  {
   "cell_type": "code",
   "execution_count": 2,
   "id": "d5e3dfe6",
   "metadata": {},
   "outputs": [
    {
     "data": {
      "text/plain": [
       "10"
      ]
     },
     "execution_count": 2,
     "metadata": {},
     "output_type": "execute_result"
    }
   ],
   "source": [
    "var_a"
   ]
  },
  {
   "cell_type": "code",
   "execution_count": 3,
   "id": "0c9e8437",
   "metadata": {},
   "outputs": [
    {
     "data": {
      "text/plain": [
       "int"
      ]
     },
     "execution_count": 3,
     "metadata": {},
     "output_type": "execute_result"
    }
   ],
   "source": [
    "type(var_a)"
   ]
  },
  {
   "cell_type": "code",
   "execution_count": 8,
   "id": "acf5bf4f",
   "metadata": {},
   "outputs": [],
   "source": [
    "a_list=[0,1,11,12,13]\n",
    "a_tuple=(10,1,11,12,13,54)\n",
    "#_dic=={}"
   ]
  },
  {
   "cell_type": "code",
   "execution_count": 10,
   "id": "0dedf3df",
   "metadata": {},
   "outputs": [
    {
     "name": "stdout",
     "output_type": "stream",
     "text": [
      "<class 'list'>\n",
      "<class 'list'>\n",
      "<class 'list'>\n"
     ]
    }
   ],
   "source": [
    "print(type(a_list))\n",
    "print(type(a_list))\n",
    "print(type(a_list))"
   ]
  },
  {
   "cell_type": "markdown",
   "id": "2a962ca5",
   "metadata": {},
   "source": [
    "## For Loop and Traversing in list"
   ]
  },
  {
   "cell_type": "code",
   "execution_count": 15,
   "id": "555e7afc",
   "metadata": {},
   "outputs": [
    {
     "name": "stdout",
     "output_type": "stream",
     "text": [
      "0\n",
      "1\n",
      "11\n",
      "12\n",
      "13\n"
     ]
    }
   ],
   "source": [
    "for i in range(len(a_list)):\n",
    "    #print(i)\n",
    "    print(a_list[i])"
   ]
  },
  {
   "cell_type": "code",
   "execution_count": 16,
   "id": "f72b8c23",
   "metadata": {},
   "outputs": [
    {
     "name": "stdout",
     "output_type": "stream",
     "text": [
      "13\n",
      "12\n",
      "11\n",
      "1\n",
      "0\n"
     ]
    }
   ],
   "source": [
    "for i in [4,3,2,1,0]:\n",
    "    #print(i)\n",
    "    print(a_list[i])"
   ]
  },
  {
   "cell_type": "code",
   "execution_count": 42,
   "id": "53b0dab8",
   "metadata": {},
   "outputs": [
    {
     "name": "stdout",
     "output_type": "stream",
     "text": [
      "0\n",
      "13\n",
      "12\n",
      "11\n",
      "1\n"
     ]
    }
   ],
   "source": [
    "for i in range(len(a_list)):\n",
    "    #print(i)\n",
    "    print(a_list[-i])"
   ]
  },
  {
   "cell_type": "markdown",
   "id": "e8c8c89b",
   "metadata": {},
   "source": [
    "### Colon operater uses and their type of uses"
   ]
  },
  {
   "cell_type": "code",
   "execution_count": 28,
   "id": "6ecb3d42",
   "metadata": {},
   "outputs": [
    {
     "data": {
      "text/plain": [
       "[0, 1, 11, 12, 13]"
      ]
     },
     "execution_count": 28,
     "metadata": {},
     "output_type": "execute_result"
    }
   ],
   "source": [
    "a_list[:]"
   ]
  },
  {
   "cell_type": "code",
   "execution_count": 33,
   "id": "0247effd",
   "metadata": {},
   "outputs": [
    {
     "data": {
      "text/plain": [
       "[0, 1, 11, 12, 13]"
      ]
     },
     "execution_count": 33,
     "metadata": {},
     "output_type": "execute_result"
    }
   ],
   "source": [
    "a_list[0:]"
   ]
  },
  {
   "cell_type": "code",
   "execution_count": 34,
   "id": "5abdffdb",
   "metadata": {},
   "outputs": [
    {
     "data": {
      "text/plain": [
       "[0, 1, 11, 12, 13]"
      ]
     },
     "execution_count": 34,
     "metadata": {},
     "output_type": "execute_result"
    }
   ],
   "source": [
    "a_list[:5]"
   ]
  },
  {
   "cell_type": "code",
   "execution_count": 36,
   "id": "751a3165",
   "metadata": {},
   "outputs": [
    {
     "data": {
      "text/plain": [
       "[0, 1, 11, 12, 13]"
      ]
     },
     "execution_count": 36,
     "metadata": {},
     "output_type": "execute_result"
    }
   ],
   "source": [
    "a_list[0:5]"
   ]
  },
  {
   "cell_type": "code",
   "execution_count": 37,
   "id": "f2ab9013",
   "metadata": {},
   "outputs": [
    {
     "data": {
      "text/plain": [
       "[0, 11, 13]"
      ]
     },
     "execution_count": 37,
     "metadata": {},
     "output_type": "execute_result"
    }
   ],
   "source": [
    "a_list[0:5:2]"
   ]
  },
  {
   "cell_type": "code",
   "execution_count": 38,
   "id": "7a34226d",
   "metadata": {},
   "outputs": [
    {
     "data": {
      "text/plain": [
       "[0, 11, 13]"
      ]
     },
     "execution_count": 38,
     "metadata": {},
     "output_type": "execute_result"
    }
   ],
   "source": [
    "a_list[::2]"
   ]
  },
  {
   "cell_type": "code",
   "execution_count": 39,
   "id": "de8ecd3a",
   "metadata": {},
   "outputs": [
    {
     "data": {
      "text/plain": [
       "[13, 12, 11, 1, 0]"
      ]
     },
     "execution_count": 39,
     "metadata": {},
     "output_type": "execute_result"
    }
   ],
   "source": [
    "a_list[::-1]"
   ]
  },
  {
   "cell_type": "code",
   "execution_count": 45,
   "id": "270dff57",
   "metadata": {},
   "outputs": [],
   "source": [
    "set_1={11,12,13,14}\n",
    "set_2={11,19,16,18}"
   ]
  },
  {
   "cell_type": "code",
   "execution_count": 48,
   "id": "305a8cf5",
   "metadata": {},
   "outputs": [
    {
     "data": {
      "text/plain": [
       "{11}"
      ]
     },
     "execution_count": 48,
     "metadata": {},
     "output_type": "execute_result"
    }
   ],
   "source": [
    "set_1 & set_2"
   ]
  },
  {
   "cell_type": "code",
   "execution_count": 51,
   "id": "7b71af65",
   "metadata": {},
   "outputs": [
    {
     "data": {
      "text/plain": [
       "{11, 12, 13, 14, 16, 18, 19}"
      ]
     },
     "execution_count": 51,
     "metadata": {},
     "output_type": "execute_result"
    }
   ],
   "source": [
    "set_1 | set_2"
   ]
  },
  {
   "cell_type": "markdown",
   "id": "64aefabf",
   "metadata": {},
   "source": [
    "### WAP in which prompt name and find the given name have vowel or not"
   ]
  },
  {
   "cell_type": "code",
   "execution_count": 61,
   "id": "14c830a3",
   "metadata": {},
   "outputs": [
    {
     "name": "stdout",
     "output_type": "stream",
     "text": [
      "please enter the name=vikas\n"
     ]
    }
   ],
   "source": [
    "name = input(\"please enter the name=\")"
   ]
  },
  {
   "cell_type": "code",
   "execution_count": 62,
   "id": "4b63ebdc",
   "metadata": {},
   "outputs": [],
   "source": [
    "vowel = {'a','i','o','u','e','A','I','O','U','E'}\n",
    "vowel_list=[]"
   ]
  },
  {
   "cell_type": "code",
   "execution_count": 63,
   "id": "108b63a2",
   "metadata": {},
   "outputs": [
    {
     "name": "stdout",
     "output_type": "stream",
     "text": [
      "yes\n",
      "['i', 'a']\n"
     ]
    }
   ],
   "source": [
    "for i in name:\n",
    "    if i in vowel:\n",
    "        vowel_list.append(i)\n",
    "if len(vowel_list) == 0:\n",
    "    print(\"NO\")\n",
    "else:\n",
    "    print(\"yes\")\n",
    "    print(vowel_list)"
   ]
  },
  {
   "cell_type": "markdown",
   "id": "d111982b",
   "metadata": {},
   "source": [
    "### Dict"
   ]
  },
  {
   "cell_type": "code",
   "execution_count": 1,
   "id": "73fb3103",
   "metadata": {},
   "outputs": [],
   "source": [
    "data={\"Name\":[\"Vikas\",\"Shyam\"],\"Age\":[14,16]}"
   ]
  },
  {
   "cell_type": "code",
   "execution_count": 2,
   "id": "bbe06636",
   "metadata": {},
   "outputs": [
    {
     "data": {
      "text/plain": [
       "{'Name': ['Vikas', 'Shyam'], 'Age': [14, 16]}"
      ]
     },
     "execution_count": 2,
     "metadata": {},
     "output_type": "execute_result"
    }
   ],
   "source": [
    "data"
   ]
  },
  {
   "cell_type": "code",
   "execution_count": 3,
   "id": "2ef6cca5",
   "metadata": {},
   "outputs": [
    {
     "data": {
      "text/plain": [
       "dict"
      ]
     },
     "execution_count": 3,
     "metadata": {},
     "output_type": "execute_result"
    }
   ],
   "source": [
    "type(data)"
   ]
  },
  {
   "cell_type": "code",
   "execution_count": null,
   "id": "3f89f1b7",
   "metadata": {},
   "outputs": [],
   "source": []
  }
 ],
 "metadata": {
  "kernelspec": {
   "display_name": "Python 3",
   "language": "python",
   "name": "python3"
  },
  "language_info": {
   "codemirror_mode": {
    "name": "ipython",
    "version": 3
   },
   "file_extension": ".py",
   "mimetype": "text/x-python",
   "name": "python",
   "nbconvert_exporter": "python",
   "pygments_lexer": "ipython3",
   "version": "3.8.8"
  }
 },
 "nbformat": 4,
 "nbformat_minor": 5
}
