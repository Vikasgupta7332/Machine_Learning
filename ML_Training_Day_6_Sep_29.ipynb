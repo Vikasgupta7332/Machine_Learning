{
 "cells": [
  {
   "cell_type": "markdown",
   "id": "8290e4b9",
   "metadata": {},
   "source": [
    "# Linear_Regression_Example_1"
   ]
  },
  {
   "cell_type": "code",
   "execution_count": 1,
   "id": "1c30e919",
   "metadata": {},
   "outputs": [],
   "source": [
    "import numpy as np\n",
    "import pandas as pd\n",
    "import seaborn as sb\n",
    "from matplotlib import pyplot as plt "
   ]
  },
  {
   "cell_type": "code",
   "execution_count": 2,
   "id": "2192287d",
   "metadata": {},
   "outputs": [],
   "source": [
    "x_input=np.array([[1],[2],[3],[4],[5]])\n",
    "y_output=np.array([1,3,2,3,5])"
   ]
  },
  {
   "cell_type": "code",
   "execution_count": 3,
   "id": "6faafa98",
   "metadata": {},
   "outputs": [],
   "source": [
    "mydata=pd.DataFrame({\"X\":list(x_input[:,0]),\"Y\":list(y_output)})"
   ]
  },
  {
   "cell_type": "code",
   "execution_count": 4,
   "id": "d79e3410",
   "metadata": {},
   "outputs": [
    {
     "data": {
      "text/html": [
       "<div>\n",
       "<style scoped>\n",
       "    .dataframe tbody tr th:only-of-type {\n",
       "        vertical-align: middle;\n",
       "    }\n",
       "\n",
       "    .dataframe tbody tr th {\n",
       "        vertical-align: top;\n",
       "    }\n",
       "\n",
       "    .dataframe thead th {\n",
       "        text-align: right;\n",
       "    }\n",
       "</style>\n",
       "<table border=\"1\" class=\"dataframe\">\n",
       "  <thead>\n",
       "    <tr style=\"text-align: right;\">\n",
       "      <th></th>\n",
       "      <th>X</th>\n",
       "      <th>Y</th>\n",
       "    </tr>\n",
       "  </thead>\n",
       "  <tbody>\n",
       "    <tr>\n",
       "      <th>X</th>\n",
       "      <td>1.000000</td>\n",
       "      <td>0.852803</td>\n",
       "    </tr>\n",
       "    <tr>\n",
       "      <th>Y</th>\n",
       "      <td>0.852803</td>\n",
       "      <td>1.000000</td>\n",
       "    </tr>\n",
       "  </tbody>\n",
       "</table>\n",
       "</div>"
      ],
      "text/plain": [
       "          X         Y\n",
       "X  1.000000  0.852803\n",
       "Y  0.852803  1.000000"
      ]
     },
     "execution_count": 4,
     "metadata": {},
     "output_type": "execute_result"
    }
   ],
   "source": [
    "mydata.corr()"
   ]
  },
  {
   "cell_type": "code",
   "execution_count": 5,
   "id": "4f27e59f",
   "metadata": {},
   "outputs": [
    {
     "data": {
      "image/png": "[encoded data removed]",
      "text/plain": [
       "<Figure size 432x288 with 2 Axes>"
      ]
     },
     "metadata": {
      "needs_background": "light"
     },
     "output_type": "display_data"
    }
   ],
   "source": [
    "sb.heatmap(mydata.corr())\n",
    "plt.show()"
   ]
  },
  {
   "cell_type": "code",
   "execution_count": 6,
   "id": "b8eff079",
   "metadata": {},
   "outputs": [],
   "source": [
    "from sklearn.linear_model import LinearRegression"
   ]
  },
  {
   "cell_type": "code",
   "execution_count": 7,
   "id": "2bf81e48",
   "metadata": {},
   "outputs": [
    {
     "data": {
      "text/plain": [
       "array([1.2])"
      ]
     },
     "execution_count": 7,
     "metadata": {},
     "output_type": "execute_result"
    }
   ],
   "source": [
    "lr_model=LinearRegression(fit_intercept=True)\n",
    "lr_Learner=lr_model.fit(x_input,y_output)\n",
    "lr_Learner.predict([[1]])"
   ]
  },
  {
   "cell_type": "code",
   "execution_count": 9,
   "id": "56633d17",
   "metadata": {},
   "outputs": [
    {
     "name": "stdout",
     "output_type": "stream",
     "text": [
      "m[0.8] c0.39999999999999947\n",
      "[1.2 2.  2.8 3.6 4.4]\n"
     ]
    }
   ],
   "source": [
    "m=lr_Learner.coef_\n",
    "c=lr_Learner.intercept_\n",
    "print(\"m{} c{}\".format(m,c))\n",
    "Yp=m*x_input[:,0]+c\n",
    "print(Yp)"
   ]
  },
  {
   "cell_type": "code",
   "execution_count": 10,
   "id": "63ed579d",
   "metadata": {},
   "outputs": [
    {
     "name": "stdout",
     "output_type": "stream",
     "text": [
      "0.6928203230275508\n"
     ]
    }
   ],
   "source": [
    "error=np.sqrt(np.square(Yp-y_output).sum()/len(y_output))\n",
    "print(error)"
   ]
  },
  {
   "cell_type": "code",
   "execution_count": 11,
   "id": "cc919bbe",
   "metadata": {},
   "outputs": [
    {
     "data": {
      "image/png": "[encoded data removed]",
      "text/plain": [
       "<Figure size 432x288 with 1 Axes>"
      ]
     },
     "metadata": {
      "needs_background": "light"
     },
     "output_type": "display_data"
    }
   ],
   "source": [
    "plt.scatter(list(x_input[:,0]),list(y_output))\n",
    "plt.plot(list(x_input[:,0]),Yp,'r>')\n",
    "plt.plot(list(x_input[:,0]),Yp,'y')\n",
    "plt.xlabel(\"X\")\n",
    "plt.ylabel(\"Ya\")\n",
    "plt.title(\"Regression\")\n",
    "plt.show()"
   ]
  },
  {
   "cell_type": "code",
   "execution_count": 25,
   "id": "721c5bd6",
   "metadata": {},
   "outputs": [],
   "source": [
    "from sklearn.metrics import mean_squared_error"
   ]
  },
  {
   "cell_type": "code",
   "execution_count": 28,
   "id": "e7e0fd92",
   "metadata": {},
   "outputs": [
    {
     "data": {
      "text/plain": [
       "0.6928203230275508"
      ]
     },
     "execution_count": 28,
     "metadata": {},
     "output_type": "execute_result"
    }
   ],
   "source": [
    "error1= np.sqrt(mean_squared_error(y_output,Yp))\n",
    "error1"
   ]
  },
  {
   "cell_type": "code",
   "execution_count": 29,
   "id": "4024162b",
   "metadata": {},
   "outputs": [
    {
     "data": {
      "image/png": "[encoded data removed]",
      "text/plain": [
       "<Figure size 360x360 with 1 Axes>"
      ]
     },
     "metadata": {
      "needs_background": "light"
     },
     "output_type": "display_data"
    }
   ],
   "source": [
    "sb.displot(y_output-Yp)\n",
    "plt.show()"
   ]
  },
  {
   "cell_type": "code",
   "execution_count": null,
   "id": "220b8587",
   "metadata": {},
   "outputs": [],
   "source": []
  }
 ],
 "metadata": {
  "kernelspec": {
   "display_name": "Python 3",
   "language": "python",
   "name": "python3"
  },
  "language_info": {
   "codemirror_mode": {
    "name": "ipython",
    "version": 3
   },
   "file_extension": ".py",
   "mimetype": "text/x-python",
   "name": "python",
   "nbconvert_exporter": "python",
   "pygments_lexer": "ipython3",
   "version": "3.8.8"
  }
 },
 "nbformat": 4,
 "nbformat_minor": 5
}
